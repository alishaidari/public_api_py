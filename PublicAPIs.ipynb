{
 "cells": [
  {
   "cell_type": "markdown",
   "metadata": {},
   "source": [
    "Refer to the instructions on Canvas for more information.\n",
    "\n",
    "\"I have neither given nor received help on this assignment.\"\n",
    "\n",
    "author: Ali Haidari"
   ]
  },
  {
   "cell_type": "markdown",
   "metadata": {},
   "source": [
    "You should use this markdown cell to address the questions in the specification for the public API that follows\n",
    "\n",
    "CheapShark API : List of Deals\n",
    "https://www.cheapshark.com/api/1.0/deals?storeID=1&upperPrice=15\n",
    "\n",
    "How many of the games on that are listed as deals on CheapShark have metacritic scores above 70?\n",
    "\n",
    "My solution was to request the api from cheapSharks then use the .json() method to convert it into \n",
    "a list of dicts on python. After this I searched within the list of dicts for the metacriticScore key \n",
    "and checked if the integer value was above. I added that value to a count and returned it within the function\n",
    "metacriticScoresCount. "
   ]
  },
  {
   "cell_type": "code",
   "execution_count": 154,
   "metadata": {},
   "outputs": [
    {
     "name": "stdout",
     "output_type": "stream",
     "text": [
      "The number of games on sale with metacritic scores above 70 : 20\n"
     ]
    }
   ],
   "source": [
    "# Here is a cell for your first public API\n",
    "import requests\n",
    "import json\n",
    "\n",
    "response = requests.get(\"https://www.cheapshark.com/api/1.0/deals?storeID=1&upperPrice=15\")\n",
    "#print(response.status_code)\n",
    "\n",
    "def metacriticScoresCount():\n",
    "    count = 0\n",
    "    game_list = response.json()\n",
    "    for dictionary in game_list:\n",
    "        met_score = dictionary[\"metacriticScore\"]\n",
    "        if int(met_score) >= 70:\n",
    "            count += 1\n",
    "    \n",
    "    msg = (\"The number of games on sale with metacritic scores above 70 : \" + str(count))\n",
    "    return msg\n",
    "\n",
    "print(metacriticScoresCount())"
   ]
  },
  {
   "cell_type": "markdown",
   "metadata": {},
   "source": [
    "You should use this markdown cell to address the questions in the specification for the second public API\n",
    "\n",
    "Punk Beverages API : List of Beers https://api.punkapi.com/v2/beers\n",
    "\n",
    "What is the distrubition of the beers' alcohol by volume in percentages?\n",
    "\n",
    "My solution was the request the api and use .json() to convert it into a list of dicts in python. After this I searched within the list of dicts until I found the ABV key as a float. Then I calculated each ABV value as a percentage being below 5%, between 5% and 10%, and above 10% ABV. "
   ]
  },
  {
   "cell_type": "code",
   "execution_count": 155,
   "metadata": {},
   "outputs": [
    {
     "name": "stdout",
     "output_type": "stream",
     "text": [
      "('Percent of Beers with ABV less than 5% : 32.0', 'Percent of Beers with ABV between 5% and 10% : 40.0', 'Percent of Beers with ABV more than 10% : 28.000000000000004')\n"
     ]
    }
   ],
   "source": [
    "# Here is a cell for your second public API\n",
    "response = requests.get(\"https://api.punkapi.com/v2/beers\")\n",
    "#print(response.status_code)\n",
    "data = json.loads(response.content)\n",
    "def jprint(obj):\n",
    "    # create a formatted string of the Python JSON object\n",
    "    text = json.dumps(obj, sort_keys=True, indent=4)\n",
    "    print(text)\n",
    "\n",
    "\n",
    "beer_list = response.json()\n",
    "#jprint(beer_list)\n",
    "\n",
    "def percentBeerABV():\n",
    "    abv_list = []\n",
    "    lessThan5 = 0\n",
    "    lessThan10 = 0\n",
    "    moreThan10 = 0\n",
    "    count = 0\n",
    "    for dictionary in beer_list:\n",
    "        beer_abv = dictionary[\"abv\"]\n",
    "        abv_list.append(float(beer_abv))\n",
    "    \n",
    "    for i in abv_list:\n",
    "        count += 1\n",
    "        if i <= 5.0:\n",
    "            lessThan5 += 1\n",
    "        if i > 5.0 and i <= 10.0:\n",
    "            lessThan10 += 1\n",
    "        if i > 10.0:\n",
    "            moreThan10 += 1\n",
    "    \n",
    "    first_percent = lessThan5/count * 100\n",
    "    second_percent = lessThan10/count * 100\n",
    "    third_percent = moreThan10/count * 100\n",
    "    \n",
    "    \n",
    "    msg = (\"Percent of Beers with ABV less than 5% : \" + str(first_percent),\n",
    "          \"Percent of Beers with ABV between 5% and 10% : \" + str(second_percent),\n",
    "          \"Percent of Beers with ABV more than 10% : \" + str(third_percent))\n",
    "    \n",
    "    return msg\n",
    "\n",
    "print(percentBeerABV())\n"
   ]
  },
  {
   "cell_type": "markdown",
   "metadata": {},
   "source": [
    "You should use this markdown cell to address the questions in the specification for the third public API\n",
    "\n",
    "COVID 19 API : List of Cases https://api.covid19api.com/summary\n",
    "\n",
    "What are the total global confirmed cases vs. the global recovered cases for COVID 19?\n",
    "\n",
    "My solution was to request the api then check the status code and documentation of the api. After this I saw that it was a dictionary within another dictionary so I had to get the correct key before searching for the global cases. After I searched throughout the global case numbers I added each of them to a count and added each countries\n",
    "recovery and confirmed cases together to get a grand total. "
   ]
  },
  {
   "cell_type": "code",
   "execution_count": 156,
   "metadata": {},
   "outputs": [
    {
     "name": "stdout",
     "output_type": "stream",
     "text": [
      "('The global total of confirmed cases is : 64520350', 'The global total of recovered cases is : 41488406')\n"
     ]
    }
   ],
   "source": [
    "# Here is a cell for your third public API\n",
    "response = requests.get(\"https://api.covid19api.com/summary\")\n",
    "#print(response.status_code)\n",
    "data = json.loads(response.content)\n",
    "def jprint(obj):\n",
    "    # create a formatted string of the Python JSON object\n",
    "    text = json.dumps(obj, sort_keys=True, indent=4)\n",
    "    print(text)\n",
    "\n",
    "\n",
    "case_list = response.json()\n",
    "#jprint(case_list)\n",
    "country_list = case_list[\"Countries\"]\n",
    "confirm_list = []\n",
    "recover_list = []\n",
    "\n",
    "def recoveryRateCOVID():\n",
    "    c_count = 0\n",
    "    r_count = 0\n",
    "    for dictionary in country_list:\n",
    "        total_confirmed = dictionary[\"TotalConfirmed\"]\n",
    "        total_recovered = dictionary[\"TotalRecovered\"]\n",
    "        confirm_list.append(total_confirmed)\n",
    "        recover_list.append(total_recovered)\n",
    "    \n",
    "    for i in confirm_list:\n",
    "        c_count += i\n",
    "        \n",
    "    for i in recover_list:\n",
    "        r_count += i\n",
    "\n",
    "    msg = (\"The global total of confirmed cases is : \" + str(c_count), \n",
    "        \"The global total of recovered cases is : \" +str(r_count))\n",
    "    \n",
    "    return msg\n",
    "\n",
    "print(recoveryRateCOVID())"
   ]
  },
  {
   "cell_type": "markdown",
   "metadata": {},
   "source": [
    "You should use this markdown cell to address the questions in the specification for the fourth public API\n",
    "\n",
    "BallDontLie API : List of NBA Stats https://www.balldontlie.io/api/v1/players\n",
    "\n",
    "What is the average height of the an NBA player?\n",
    "\n",
    "My solution was to request the API then create a data list which showed only a list of dicts that had stats about NBA players. I created two variables called feet and inches that accounted for the players' height and appended them to two lists. After this, I mapped the lists and added them using the operator module and averaged them using the stats module. "
   ]
  },
  {
   "cell_type": "code",
   "execution_count": 157,
   "metadata": {},
   "outputs": [
    {
     "data": {
      "text/plain": [
       "'The average height in feet in the NBA is : 6.6875'"
      ]
     },
     "execution_count": 157,
     "metadata": {},
     "output_type": "execute_result"
    }
   ],
   "source": [
    "# Here is a cell for your fourth public API\n",
    "from operator import add\n",
    "from statistics import mean\n",
    "response = requests.get(\"https://www.balldontlie.io/api/v1/players\")\n",
    "def jprint(obj):\n",
    "    # create a formatted string of the Python JSON object\n",
    "    text = json.dumps(obj, sort_keys=True, indent=4)\n",
    "    print(text)\n",
    "\n",
    "stat_dict = response.json()\n",
    "data_list = stat_dict[\"data\"]\n",
    "height_list = []\n",
    "temp_list = []\n",
    "result = []\n",
    "def averageWeightNBA():\n",
    "    for dictionary in data_list:\n",
    "        feet = dictionary[\"height_feet\"]\n",
    "        inches = dictionary[\"height_inches\"]\n",
    "        if feet != None:\n",
    "            temp_list.append(feet * 12)\n",
    "        \n",
    "        if inches != None:\n",
    "            height_list.append(inches)\n",
    "        \n",
    "        res_list = list(map(add, temp_list, height_list)) \n",
    "        \n",
    "    msg = (\"The average height in feet in the NBA is : \" + str(mean(res_list)/12))\n",
    "    return msg\n",
    "\n",
    "averageWeightNBA()\n"
   ]
  },
  {
   "cell_type": "markdown",
   "metadata": {},
   "source": [
    "You should use this markdown cell to address the questions in the specification for your final public API\n",
    "\n",
    "AgeOfEmpiresII API : List of Game Items https://age-of-empires-2-api.herokuapp.com/api/v1/units\n",
    "\n",
    "What is the standard deviation and variance for all the units that do hit points in Age of Empires II?\n",
    "\n",
    "My solution was to request the API and create a data list which was large dictionary of the different game items. I created a variable which was the key for the unit items in the game that did hit point damage. Then I appended each hit point value to a large list and used the numpy var and std module to calculate standard devaition and variance. \n"
   ]
  },
  {
   "cell_type": "code",
   "execution_count": 158,
   "metadata": {},
   "outputs": [
    {
     "name": "stdout",
     "output_type": "stream",
     "text": [
      "('The standard deviation of the hit points for units within AoE II are : 81.1527154268657', 'The variance of the hit points for the units within AoE II are : 6585.763221153846')\n"
     ]
    }
   ],
   "source": [
    "# Here is a cell for your fifth public API\n",
    "from numpy import var\n",
    "from numpy import std\n",
    "response = requests.get(\"https://age-of-empires-2-api.herokuapp.com/api/v1/units\")\n",
    "stat_dict = response.json()\n",
    "data_list = stat_dict[\"units\"]\n",
    "temp_list = []\n",
    "def attackStatsAOE():\n",
    "    mode = 0\n",
    "    median = 0.0\n",
    "    st_dev = 0.0\n",
    "    for dictionary in data_list:\n",
    "        hit_points = dictionary[\"hit_points\"]\n",
    "        temp_list.append(int(hit_points))\n",
    "    \n",
    "    std_stat = std(temp_list)\n",
    "    var_stat = var(temp_list)\n",
    "    msg = (\"The standard deviation of the hit points for units within AoE II are : \" + str(std_stat),\n",
    "          \"The variance of the hit points for the units within AoE II are : \" + str(var_stat))\n",
    "    return msg\n",
    "print(attackStatsAOE())"
   ]
  },
  {
   "cell_type": "code",
   "execution_count": null,
   "metadata": {},
   "outputs": [],
   "source": []
  }
 ],
 "metadata": {
  "kernelspec": {
   "display_name": "Python 3",
   "language": "python",
   "name": "python3"
  },
  "language_info": {
   "codemirror_mode": {
    "name": "ipython",
    "version": 3
   },
   "file_extension": ".py",
   "mimetype": "text/x-python",
   "name": "python",
   "nbconvert_exporter": "python",
   "pygments_lexer": "ipython3",
   "version": "3.8.3"
  }
 },
 "nbformat": 4,
 "nbformat_minor": 2
}
